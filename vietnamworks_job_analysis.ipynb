{
 "cells": [
  {
   "cell_type": "markdown",
   "metadata": {},
   "source": [
    "### Introduction\n",
    "\n",
    "I've been looking for a Data Analysis job recently and failed to do so. Actually I got several offers for Python Developer position but the work in these companies are quite boring so I left. The fact is Data Science / Data Mining / Machine Learning jobs in the north of Vietnam are quite rare. There are a lot more jobs in this field in Ho Chi Minh city.\n",
    "\n",
    "With my free time I decided to do some analysis about job market for the last few months in Vietnam. This is written with the main purpose to consolidate my knowledge about exploratory data analysis, so I will not take it very seriously about data source. I wrote some scripts to crawl job data from only one website Vietnamworks.com for the last few months. I tried to get data for the first 5 months of 2016, but it seems Vietnamworks doesn't show their past data after a specific period. The best I could get is from April. Not much, but this is for fun anyway.\n",
    "\n",
    "[In my last post](http://hoanvu.github.io/2016/05/scraping-jobs-from-vietnamworks), I showed you how to crawl job data from Vietnamworks using BeautifulSoup. Scripts used in that post will be reused here, but the scope is a little bit wider (from 26 URLs and several other features).\n",
    "\n",
    "This post will focus on scaping data for IT jobs, but you can change the base URL to work with any other kind of job you want. Just go to Vietnamworks, use the website's filter to select the job categories you want to play with, and get the base URL and assign it to the `base_url` variable in `get_all_urls()` method.\n",
    "\n",
    "### Package requirements:\n",
    "\n",
    "If you do not have those packages installed on your system, please do so before continue:\n",
    "\n",
    "- beautifulsoup4\n",
    "- matplotlib\n",
    "- seaborn\n",
    "- pandas "
   ]
  },
  {
   "cell_type": "code",
   "execution_count": 1,
   "metadata": {
    "collapsed": false
   },
   "outputs": [
    {
     "name": "stdout",
     "output_type": "stream",
     "text": [
      "Populating the interactive namespace from numpy and matplotlib\n"
     ]
    },
    {
     "name": "stderr",
     "output_type": "stream",
     "text": [
      "WARNING: pylab import has clobbered these variables: ['datetime']\n",
      "`%matplotlib` prevents importing * from pylab and numpy\n"
     ]
    }
   ],
   "source": [
    "# Imports & Settings\n",
    "\n",
    "# Make sure packages in my virtual environment are included\n",
    "import sys\n",
    "sys.path.append('/home/hoanvu/anaconda2/envs/ds/lib/python2.7/site-packages/')\n",
    "\n",
    "import requests\n",
    "import pickle\n",
    "import pandas as pd\n",
    "import matplotlib.pyplot as plt\n",
    "import seaborn as sns\n",
    "\n",
    "from bs4 import BeautifulSoup\n",
    "from collections import Counter, defaultdict\n",
    "from datetime import datetime\n",
    "\n",
    "%pylab inline\n",
    "sns.set_context('poster')\n",
    "\n",
    "# No of URLs to crawl from Vietnamworks\n",
    "MAX_PAGE = 27"
   ]
  },
  {
   "cell_type": "markdown",
   "metadata": {},
   "source": [
    "Next, we will write a method to get all URLs for the job categories of your choice. \n",
    "- base_url: this is the URL of the first page after you configure your filter on Vietnamworks website and press 'Search'\n",
    "- extended_url_pages: we want to crawl more than just the first page. `base_url` is the first page, all subsequence pages will have the extension in the URL, with `page-2` for the second page, `page-3` for the third page and so on\n",
    "\n",
    "  We we get advantage of this uniform to construct our list of URLs"
   ]
  },
  {
   "cell_type": "code",
   "execution_count": 2,
   "metadata": {
    "collapsed": false
   },
   "outputs": [],
   "source": [
    "def get_all_urls():\n",
    "    \"\"\"\n",
    "    Scan through all URLs defined by MAX_PAGE and return the URL\n",
    "    \n",
    "    return: list of URLs\n",
    "    \"\"\"\n",
    "    \n",
    "    base_url = 'http://www.vietnamworks.com/it-hardware-networking-it-software-jobs-i55,35-en'\n",
    "    extended_url_pages = ['/page-{}'.format(page_number) for page_number in xrange(2, MAX_PAGE)]\n",
    "    urls = [base_url + extended_page for extended_page in extended_url_pages]\n",
    "    urls.insert(0, base_url)\n",
    "    return urls"
   ]
  },
  {
   "cell_type": "markdown",
   "metadata": {
    "collapsed": false
   },
   "source": [
    "### Data collection\n",
    "\n",
    "Features that need to be collect:\n",
    "\n",
    "- Job title\n",
    "- Technical skills\n",
    "- Work location\n",
    "- Position\n",
    "- Company name\n",
    "- Job post date\n",
    "- Job salary\n",
    "\n",
    "This method get_jobs_in_url() get details for all job in a single URL. You can see my [previous post](http://127.0.0.1:4000/2016/05/vietnam-it-jobs-analysis) for explanation about the code."
   ]
  },
  {
   "cell_type": "code",
   "execution_count": 3,
   "metadata": {
    "collapsed": false
   },
   "outputs": [],
   "source": [
    "def get_jobs_in_url(url):\n",
    "    \"\"\"\n",
    "    Take a single URL and return a pandas DataFrame contains details about all jobs in that URL.\n",
    "    \n",
    "    return: pandas.DataFrame\n",
    "    \"\"\"\n",
    "    req = requests.get(url)\n",
    "    soup = BeautifulSoup(req.content, 'html.parser')\n",
    "    \n",
    "    jobs_table = soup.find('table', {'class': 'link-list'})\n",
    "    tr_tags = jobs_table.find_all('tr', {'class': 'job-post'})\n",
    "    \n",
    "    job_title = []\n",
    "    job_company = []\n",
    "    job_location = []\n",
    "    job_position = []\n",
    "    job_skills = []\n",
    "    job_date = []\n",
    "    \n",
    "    for job in tr_tags:\n",
    "        job_title.append(job.find('a', {'class': 'job-title'}).contents[0])\n",
    "        job_company.append(job.find('span', 'name').contents[0])\n",
    "        job_location.append(job.find('p', {'class': 'job-info'}).contents[1].find('span').contents[0])\n",
    "        job_position.append(job.find('p', {'class': 'job-info'}).contents[1].find_all('span')[1].contents[0])\n",
    "                            \n",
    "        skill_list_data = job.find('div', {'class': 'skills'})\n",
    "        if skill_list_data:\n",
    "            skill_list = skill_list_data.find_all('em', {'class': 'text-clip'})\n",
    "            \n",
    "        job_skills.append([skill.contents[0] for skill in skill_list])\n",
    "        \n",
    "        # Job post date\n",
    "        d = job.find('span', {'class': 'views'}).find('span').contents[0].split(' ')[1]\n",
    "        if d == 'Today':\n",
    "            d = datetime.datetime.now().strftime(\"%d/%m/%Y\")\n",
    "        job_date.append(d)\n",
    "    \n",
    "        # Job salary\n",
    "        \n",
    "    return pd.DataFrame({\n",
    "            'job_title': job_title,\n",
    "            'company': job_company,\n",
    "            'location': job_location,\n",
    "            'position': job_position,\n",
    "            'skills': job_skills,\n",
    "            'post_date': job_date\n",
    "        })"
   ]
  },
  {
   "cell_type": "markdown",
   "metadata": {},
   "source": [
    "This method `get_all_jobs()` just scan through all URLs from `get_all_urls()` and get details for all jobs listed in each and every page:"
   ]
  },
  {
   "cell_type": "code",
   "execution_count": 4,
   "metadata": {
    "collapsed": false
   },
   "outputs": [],
   "source": [
    "def get_all_jobs():\n",
    "    \"\"\"\n",
    "    Scans all URLs and crawls all jobs from all pages\n",
    "    \n",
    "    return: pandas.DataFrame contains every possible job that we can find\n",
    "    \"\"\"\n",
    "    urls = get_all_urls()\n",
    "    data = pd.DataFrame()\n",
    "    for url in urls:\n",
    "        data = data.append(get_jobs_in_url(url), ignore_index=True)\n",
    "        \n",
    "    return data\n",
    "\n",
    "jobs = get_all_jobs()"
   ]
  },
  {
   "cell_type": "code",
   "execution_count": 5,
   "metadata": {
    "collapsed": false
   },
   "outputs": [],
   "source": [
    "# Convert the job post date to datetime type\n",
    "jobs['post_date'] = pd.to_datetime(jobs.post_date, format=\"%d/%m/%Y\")"
   ]
  },
  {
   "cell_type": "markdown",
   "metadata": {},
   "source": [
    "#### Let's take a quick look at our data:"
   ]
  },
  {
   "cell_type": "code",
   "execution_count": 6,
   "metadata": {
    "collapsed": false
   },
   "outputs": [
    {
     "data": {
      "text/html": [
       "<div>\n",
       "<table border=\"1\" class=\"dataframe\">\n",
       "  <thead>\n",
       "    <tr style=\"text-align: right;\">\n",
       "      <th></th>\n",
       "      <th>company</th>\n",
       "      <th>job_title</th>\n",
       "      <th>location</th>\n",
       "      <th>position</th>\n",
       "      <th>post_date</th>\n",
       "      <th>skills</th>\n",
       "    </tr>\n",
       "  </thead>\n",
       "  <tbody>\n",
       "    <tr>\n",
       "      <th>0</th>\n",
       "      <td>Naviworld Vietnam Co., Ltd.</td>\n",
       "      <td>Nhân Viên Phát Triển Ứng Dụng ERP</td>\n",
       "      <td>Ha Noi, Ho Chi Minh</td>\n",
       "      <td>Experienced (non-manager)</td>\n",
       "      <td>2016-05-31</td>\n",
       "      <td>[ERP Technical Consultant, SQL, Microsoft .NET]</td>\n",
       "    </tr>\n",
       "    <tr>\n",
       "      <th>1</th>\n",
       "      <td>New Wave Solutions</td>\n",
       "      <td>Web Developer (!!!attractive Salary!!!)</td>\n",
       "      <td>Ha Noi</td>\n",
       "      <td>Experienced (non-manager)</td>\n",
       "      <td>2016-06-10</td>\n",
       "      <td>[.NET C#, PHP, Java Developer - IT Software]</td>\n",
       "    </tr>\n",
       "    <tr>\n",
       "      <th>2</th>\n",
       "      <td>A Japanese IT Company</td>\n",
       "      <td>[0511-HCM] [ Urgent ] Bse/project Manager ($20...</td>\n",
       "      <td>Da Nang, Ha Noi, Ho Chi Minh</td>\n",
       "      <td>Manager</td>\n",
       "      <td>2016-06-02</td>\n",
       "      <td>[HTML, Japanese - N2, Project Management.]</td>\n",
       "    </tr>\n",
       "    <tr>\n",
       "      <th>3</th>\n",
       "      <td>Sofiamedix Software Co.,ltd</td>\n",
       "      <td>Senior IT Business Analyst- Kỹ Sư Phân Tích Th...</td>\n",
       "      <td>Ha Noi</td>\n",
       "      <td>Experienced (non-manager)</td>\n",
       "      <td>2016-06-02</td>\n",
       "      <td>[IT Business Analyse, System Analysis &amp; Design]</td>\n",
       "    </tr>\n",
       "    <tr>\n",
       "      <th>4</th>\n",
       "      <td>Santa Clara Ltd,.</td>\n",
       "      <td>Programmer</td>\n",
       "      <td>Ha Nam, Ha Noi, Nam Dinh</td>\n",
       "      <td>Experienced (non-manager)</td>\n",
       "      <td>2016-06-02</td>\n",
       "      <td>[Hardware Maintenance, Visual Foxpro, SQL 2000]</td>\n",
       "    </tr>\n",
       "  </tbody>\n",
       "</table>\n",
       "</div>"
      ],
      "text/plain": [
       "                       company  \\\n",
       "0  Naviworld Vietnam Co., Ltd.   \n",
       "1           New Wave Solutions   \n",
       "2        A Japanese IT Company   \n",
       "3  Sofiamedix Software Co.,ltd   \n",
       "4            Santa Clara Ltd,.   \n",
       "\n",
       "                                           job_title  \\\n",
       "0                  Nhân Viên Phát Triển Ứng Dụng ERP   \n",
       "1            Web Developer (!!!attractive Salary!!!)   \n",
       "2  [0511-HCM] [ Urgent ] Bse/project Manager ($20...   \n",
       "3  Senior IT Business Analyst- Kỹ Sư Phân Tích Th...   \n",
       "4                                         Programmer   \n",
       "\n",
       "                       location                   position  post_date  \\\n",
       "0           Ha Noi, Ho Chi Minh  Experienced (non-manager) 2016-05-31   \n",
       "1                        Ha Noi  Experienced (non-manager) 2016-06-10   \n",
       "2  Da Nang, Ha Noi, Ho Chi Minh                    Manager 2016-06-02   \n",
       "3                        Ha Noi  Experienced (non-manager) 2016-06-02   \n",
       "4      Ha Nam, Ha Noi, Nam Dinh  Experienced (non-manager) 2016-06-02   \n",
       "\n",
       "                                            skills  \n",
       "0  [ERP Technical Consultant, SQL, Microsoft .NET]  \n",
       "1     [.NET C#, PHP, Java Developer - IT Software]  \n",
       "2       [HTML, Japanese - N2, Project Management.]  \n",
       "3  [IT Business Analyse, System Analysis & Design]  \n",
       "4  [Hardware Maintenance, Visual Foxpro, SQL 2000]  "
      ]
     },
     "execution_count": 6,
     "metadata": {},
     "output_type": "execute_result"
    }
   ],
   "source": [
    "jobs.head()"
   ]
  },
  {
   "cell_type": "markdown",
   "metadata": {},
   "source": [
    "Nice, seems that our data is not very **clean**, but it says that our code until now is working. Now, let's jump to the most interesting part and see what our data says?\n",
    "\n",
    "### Exploratory Data Analysis\n",
    "\n",
    "At first I planned to clean this dataset a little bit more, but then I realize it would be better if I keep it this way and transform each column based on the information I need. If you read this, feel free to take the dataset and tweak it the way you want.\n",
    "\n",
    "We will try to answer few questions as we go. \n",
    "\n",
    "**First, what is the general status of Vietnam job market?**\n",
    "\n",
    "How many days did we collect the data?"
   ]
  },
  {
   "cell_type": "code",
   "execution_count": 7,
   "metadata": {
    "collapsed": false
   },
   "outputs": [
    {
     "data": {
      "text/plain": [
       "Timedelta('30 days 00:00:00')"
      ]
     },
     "execution_count": 7,
     "metadata": {},
     "output_type": "execute_result"
    }
   ],
   "source": [
    "jobs.post_date.max() - jobs.post_date.min()"
   ]
  },
  {
   "cell_type": "markdown",
   "metadata": {},
   "source": [
    "How many jobs were posted during this period?"
   ]
  },
  {
   "cell_type": "code",
   "execution_count": 8,
   "metadata": {
    "collapsed": false
   },
   "outputs": [
    {
     "data": {
      "text/plain": [
       "'Total jobs: 1131'"
      ]
     },
     "execution_count": 8,
     "metadata": {},
     "output_type": "execute_result"
    }
   ],
   "source": [
    "\"Total jobs: {}\".format(len(jobs))"
   ]
  },
  {
   "cell_type": "markdown",
   "metadata": {},
   "source": [
    "**1277 jobs** were posted in ** only 37 days**, I think that this is very interesting number to show that the Vietnam job market is **very bustle**. If we collect data from other sites, there maybe even much bigger number of jobs posted."
   ]
  },
  {
   "cell_type": "markdown",
   "metadata": {},
   "source": [
    "#### Which city have the most demand for job recruitment?\n",
    "\n",
    "From the graph below, it's obvious that **Ho Chi Minh** and **Ha Noi** are two cities which have huge demand for human resources in IT, which makes sense! Ho Chi Minh is by far the most demanding city.\n",
    "\n",
    "**Da Nang** is also a very hot city for job hunter. There are some jobs that have work location as **International**, this is very interesting!"
   ]
  },
  {
   "cell_type": "code",
   "execution_count": 9,
   "metadata": {
    "collapsed": false
   },
   "outputs": [
    {
     "data": {
      "text/plain": [
       "<matplotlib.axes._subplots.AxesSubplot at 0x7f58f52f8210>"
      ]
     },
     "execution_count": 9,
     "metadata": {},
     "output_type": "execute_result"
    },
    {
     "data": {
      "image/png": "[encoded data removed]",
      "text/plain": [
       "<matplotlib.figure.Figure at 0x7f58f5580810>"
      ]
     },
     "metadata": {},
     "output_type": "display_data"
    }
   ],
   "source": [
    "all_locations = []\n",
    "for location in jobs.location:\n",
    "    if ',' in location:\n",
    "        all_locations.extend(location.split(', '))\n",
    "    else:\n",
    "        all_locations.append(location)\n",
    "\n",
    "# Remove cities that have less than 5 jobs, just to make grap clearer\n",
    "most_cities = [key for key, value in Counter(all_locations).iteritems() if value > 5]\n",
    "new_cities = [city for city in all_locations if city in most_cities]\n",
    "\n",
    "sns.countplot(y=new_cities)"
   ]
  },
  {
   "cell_type": "markdown",
   "metadata": {},
   "source": [
    "#### What's the percentage?"
   ]
  },
  {
   "cell_type": "code",
   "execution_count": 10,
   "metadata": {
    "collapsed": false
   },
   "outputs": [
    {
     "name": "stdout",
     "output_type": "stream",
     "text": [
      "Total jobs:                     1320\n",
      "Jobs required by Ho Chi Minh:   51.818%\n",
      "Jobs required by Ha Noi:        35.833%\n",
      "Jobs required by Da Nang:       4.242%\n",
      "Jobs required by International: 2.045%\n"
     ]
    }
   ],
   "source": [
    "from __future__ import division\n",
    "\n",
    "location_counter = Counter(all_locations)\n",
    "total_jobs = sum(location_counter.values())\n",
    "jobs_in_hcm = location_counter['Ho Chi Minh']\n",
    "jobs_in_hn = location_counter['Ha Noi']\n",
    "jobs_in_dn = location_counter['Da Nang']\n",
    "jobs_in_int = location_counter['International']\n",
    "\n",
    "print \"Total jobs:                     {}\".format(total_jobs)\n",
    "print \"Jobs required by Ho Chi Minh:   {:.3f}%\".format((jobs_in_hcm / total_jobs) * 100.0 )\n",
    "print \"Jobs required by Ha Noi:        {:.3f}%\".format((jobs_in_hn / total_jobs) * 100.0 ) \n",
    "print \"Jobs required by Da Nang:       {:.3f}%\".format((jobs_in_dn / total_jobs) * 100.0 )\n",
    "print \"Jobs required by International: {:.3f}%\".format((jobs_in_int / total_jobs) * 100.0) "
   ]
  },
  {
   "cell_type": "markdown",
   "metadata": {},
   "source": [
    "#### Which positions does recruiter looking for?"
   ]
  },
  {
   "cell_type": "code",
   "execution_count": 11,
   "metadata": {
    "collapsed": false
   },
   "outputs": [
    {
     "data": {
      "text/plain": [
       "<matplotlib.axes._subplots.AxesSubplot at 0x7f58f5310d50>"
      ]
     },
     "execution_count": 11,
     "metadata": {},
     "output_type": "execute_result"
    },
    {
     "data": {
      "image/png": "[encoded data removed]",
      "text/plain": [
       "<matplotlib.figure.Figure at 0x7f58f59fbe90>"
      ]
     },
     "metadata": {},
     "output_type": "display_data"
    }
   ],
   "source": [
    "sns.countplot(x='position', data=jobs)"
   ]
  },
  {
   "cell_type": "code",
   "execution_count": 12,
   "metadata": {
    "collapsed": false
   },
   "outputs": [
    {
     "data": {
      "text/plain": [
       "0.8248631743549648"
      ]
     },
     "execution_count": 12,
     "metadata": {},
     "output_type": "execute_result"
    }
   ],
   "source": [
    "1055 / 1279"
   ]
  },
  {
   "cell_type": "markdown",
   "metadata": {},
   "source": [
    "It's obvious that **Specialist** position is the hottest job. \n",
    "\n",
    "#### Now, which skills are expected by companies?"
   ]
  },
  {
   "cell_type": "code",
   "execution_count": 13,
   "metadata": {
    "collapsed": false
   },
   "outputs": [
    {
     "data": {
      "text/plain": [
       "<matplotlib.axes._subplots.AxesSubplot at 0x7f58f2dfec90>"
      ]
     },
     "execution_count": 13,
     "metadata": {},
     "output_type": "execute_result"
    },
    {
     "data": {
      "image/png": "[encoded data removed]",
      "text/plain": [
       "<matplotlib.figure.Figure at 0x7f58f2dfe590>"
      ]
     },
     "metadata": {},
     "output_type": "display_data"
    }
   ],
   "source": [
    "# Need to improve this code\n",
    "\n",
    "skill_counter = defaultdict(int)\n",
    "for row in jobs.skills:\n",
    "    for skill in row:\n",
    "        skill = skill.lower()\n",
    "        if 'c++' in skill:\n",
    "            skill_counter['C++'] += 1\n",
    "        if 'java' in skill or 'j2ee' in skill or 'servlet' in skill or 'jsp' in skill or 'hibernate' in skill:\n",
    "            skill_counter['Java'] += 1\n",
    "        if 'ios' in skill or 'objective-c' in skill or 'objective c' in skill:\n",
    "            skill_counter['iOS'] += 1\n",
    "        if 'python' in skill or 'django' in skill or 'flask' in skill:\n",
    "            skill_counter['Python'] += 1\n",
    "        if 'html' in skill or 'css' in skill or 'css3' in skill:\n",
    "            skill_counter['HTML/CSS'] += 1\n",
    "        if 'android' in skill:\n",
    "            skill_counter['Android'] += 1\n",
    "        if 'oracle' in skill or 'sql' in skill or 'sql server' in skill or 'mysql' in skill or \\\n",
    "            'database' in skill or 'postgres' in skill:\n",
    "            skill_counter['Database'] += 1\n",
    "        if 'linux' in skill or 'redhat' in skill or 'centos' in skill or 'ubuntu' in skill:\n",
    "            skill_counter['Linux'] += 1\n",
    "        if 'cisco' in skill or 'ccna' in skill or 'ccnp' in skill or 'ccie' in skill or \\\n",
    "            'network' in skill or 'routing' in skill or 'switching' in skill:\n",
    "            skill_counter['Network'] += 1\n",
    "        if 'c#' in skill or '.net' in skill:\n",
    "            skill_counter['C#/.Net'] += 1\n",
    "        if 'javascript' in skill:\n",
    "            skill_counter['Javascript'] += 1\n",
    "        if 'php' in skill:\n",
    "            skill_counter['PHP'] += 1\n",
    "        if 'scrum' in skill:\n",
    "            skill_counter['Agile Scrum'] += 1\n",
    "        if 'brse' in skill or 'bridge' in skill:\n",
    "            skill_counter['BrSE'] += 1\n",
    "\n",
    "skills = pd.DataFrame(dict(skill_counter), index=range(1))\n",
    "skills.iloc[0].sort_values(ascending=False).plot(kind='barh')\n",
    "# sns.barplot(data=pd.DataFrame(dict(skill_counter), index=range(1)), orient='h')\n",
    "# sns.barplot?"
   ]
  },
  {
   "cell_type": "markdown",
   "metadata": {
    "collapsed": false
   },
   "source": [
    "This might not be 100% percent accurate, but skill, we know that Java is always the dominated programming language for a very long time."
   ]
  },
  {
   "cell_type": "markdown",
   "metadata": {},
   "source": [
    "#### Which companies are hiring people to work outside Vietnam?"
   ]
  },
  {
   "cell_type": "code",
   "execution_count": 14,
   "metadata": {
    "collapsed": false
   },
   "outputs": [
    {
     "data": {
      "text/html": [
       "<div>\n",
       "<table border=\"1\" class=\"dataframe\">\n",
       "  <thead>\n",
       "    <tr style=\"text-align: right;\">\n",
       "      <th></th>\n",
       "      <th>company</th>\n",
       "      <th>job_title</th>\n",
       "    </tr>\n",
       "  </thead>\n",
       "  <tbody>\n",
       "    <tr>\n",
       "      <th>15</th>\n",
       "      <td>Neos Corporation</td>\n",
       "      <td>Web Developer - Làm Việc Tại Nhật Bản</td>\n",
       "    </tr>\n",
       "    <tr>\n",
       "      <th>36</th>\n",
       "      <td>Emerio-an NTT Communications Company</td>\n",
       "      <td>Technical Support Consultant - Vietnamese Spea...</td>\n",
       "    </tr>\n",
       "    <tr>\n",
       "      <th>43</th>\n",
       "      <td>Gmo-z.com Vietnam Lab Center</td>\n",
       "      <td>Kỹ Sư Phần Mềm Biết Tiếng Nhật (bse/ Smartphon...</td>\n",
       "    </tr>\n",
       "    <tr>\n",
       "      <th>45</th>\n",
       "      <td>Công Ty TNHH Nisshin</td>\n",
       "      <td>[300~600man/năm] Brse/ Se/ PG Làm Việc Tại Tokyo</td>\n",
       "    </tr>\n",
       "    <tr>\n",
       "      <th>58</th>\n",
       "      <td>Saritasa</td>\n",
       "      <td>Senior iOS Mobile Developer - Competitive Salary</td>\n",
       "    </tr>\n",
       "    <tr>\n",
       "      <th>102</th>\n",
       "      <td>Robert Bosch Engineering Vietnam</td>\n",
       "      <td>*urgent* 3 Senior Liferay Engineers (4 - 6 Years)</td>\n",
       "    </tr>\n",
       "    <tr>\n",
       "      <th>106</th>\n",
       "      <td>Công Ty TNHH Phần Mềm FPT (FPT Software)</td>\n",
       "      <td>10 Testers Tiếng Nhật N2 Có Cơ Hội Onsite Mỹ</td>\n",
       "    </tr>\n",
       "    <tr>\n",
       "      <th>190</th>\n",
       "      <td>Neos Corporation</td>\n",
       "      <td>05 Kỹ Sư iOS ( High Salary )</td>\n",
       "    </tr>\n",
       "    <tr>\n",
       "      <th>191</th>\n",
       "      <td>Neos Corporation</td>\n",
       "      <td>05 Kỹ Sư Android ( High Salary )</td>\n",
       "    </tr>\n",
       "    <tr>\n",
       "      <th>198</th>\n",
       "      <td>Công Ty TNHH Thương Mại Và Dịch Vụ Tri Thức Mới</td>\n",
       "      <td>[tuyển Gấp] 8 Lập Trình Viên .NET, Php, Java C...</td>\n",
       "    </tr>\n",
       "    <tr>\n",
       "      <th>304</th>\n",
       "      <td>Công Ty TNHH Phần Mềm FPT</td>\n",
       "      <td>Kỹ Sư Cầu Nối (BrSE) Làm Việc Dài Hạn Tại Nhật...</td>\n",
       "    </tr>\n",
       "    <tr>\n",
       "      <th>384</th>\n",
       "      <td>NEC Vietnam</td>\n",
       "      <td>SAP Operator (based in Tokyo, Japan)</td>\n",
       "    </tr>\n",
       "    <tr>\n",
       "      <th>491</th>\n",
       "      <td>Synova Solutions</td>\n",
       "      <td>Urgent - PHP Developer (drupal/wordpress/symfo...</td>\n",
       "    </tr>\n",
       "    <tr>\n",
       "      <th>502</th>\n",
       "      <td>Harvey Nash Viet Nam</td>\n",
       "      <td>Senior Sharepoint Developer (go Onsite Singapore)</td>\n",
       "    </tr>\n",
       "    <tr>\n",
       "      <th>515</th>\n",
       "      <td>COMIT Corporation</td>\n",
       "      <td>Quản Lý Dự Án Dịch Vụ Viễn Thông</td>\n",
       "    </tr>\n",
       "    <tr>\n",
       "      <th>540</th>\n",
       "      <td>Ars Nova Viet Nam Company Limited</td>\n",
       "      <td>Kỹ Sư Phần Mềm Được Đào Tạo Tiếng Nhật và Sẽ L...</td>\n",
       "    </tr>\n",
       "    <tr>\n",
       "      <th>593</th>\n",
       "      <td>COMIT Corporation</td>\n",
       "      <td>Kỹ Sư Tối Ưu Hóa Mạng Vô Tuyến 3G (Experienced...</td>\n",
       "    </tr>\n",
       "    <tr>\n",
       "      <th>674</th>\n",
       "      <td>Tổng Công Ty Cổ Phần Bảo Hiểm Sài Gòn - Hà Nội...</td>\n",
       "      <td>Chuyên Viên Công Nghệ Thông Tin ( Làm Việc Tại...</td>\n",
       "    </tr>\n",
       "    <tr>\n",
       "      <th>689</th>\n",
       "      <td>Neos Corporation</td>\n",
       "      <td>03 Bridge System Engineer ( $1000 ~ $2000)</td>\n",
       "    </tr>\n",
       "    <tr>\n",
       "      <th>690</th>\n",
       "      <td>Imaginato</td>\n",
       "      <td>($700 ~$1500) E-commerce PHP Engineer</td>\n",
       "    </tr>\n",
       "    <tr>\n",
       "      <th>693</th>\n",
       "      <td>Finexus Sdn Bhd</td>\n",
       "      <td>*** Hot :15 Lập Trình Viên Java Làm Việc Tại M...</td>\n",
       "    </tr>\n",
       "    <tr>\n",
       "      <th>734</th>\n",
       "      <td>Lee Wenyong &amp; Co.</td>\n",
       "      <td>Software Application Engineer / PHP Developer</td>\n",
       "    </tr>\n",
       "    <tr>\n",
       "      <th>784</th>\n",
       "      <td>Sutherland Global Services Malaysia</td>\n",
       "      <td>Technical Support</td>\n",
       "    </tr>\n",
       "    <tr>\n",
       "      <th>786</th>\n",
       "      <td>株式会社プロフェースシステムズ</td>\n",
       "      <td>System Engineer To Japan ($2000 ~ $5000)</td>\n",
       "    </tr>\n",
       "    <tr>\n",
       "      <th>902</th>\n",
       "      <td>Công Ty TNHH Công Nghệ Phần Mềm Kaopiz</td>\n",
       "      <td>Onsite Engineer</td>\n",
       "    </tr>\n",
       "    <tr>\n",
       "      <th>921</th>\n",
       "      <td>Công Ty Phần Mềm Của Nhật Bản</td>\n",
       "      <td>Kỹ Sư Hệ Thống Biết Tiếng Nhật (BrSE)</td>\n",
       "    </tr>\n",
       "    <tr>\n",
       "      <th>1060</th>\n",
       "      <td>ZTE Corporation</td>\n",
       "      <td>Oversea Project Manager ( Working in Peru )- U...</td>\n",
       "    </tr>\n",
       "  </tbody>\n",
       "</table>\n",
       "</div>"
      ],
      "text/plain": [
       "                                                company  \\\n",
       "15                                     Neos Corporation   \n",
       "36                 Emerio-an NTT Communications Company   \n",
       "43                         Gmo-z.com Vietnam Lab Center   \n",
       "45                                 Công Ty TNHH Nisshin   \n",
       "58                                             Saritasa   \n",
       "102                    Robert Bosch Engineering Vietnam   \n",
       "106            Công Ty TNHH Phần Mềm FPT (FPT Software)   \n",
       "190                                    Neos Corporation   \n",
       "191                                    Neos Corporation   \n",
       "198     Công Ty TNHH Thương Mại Và Dịch Vụ Tri Thức Mới   \n",
       "304                           Công Ty TNHH Phần Mềm FPT   \n",
       "384                                         NEC Vietnam   \n",
       "491                                    Synova Solutions   \n",
       "502                                Harvey Nash Viet Nam   \n",
       "515                                   COMIT Corporation   \n",
       "540                   Ars Nova Viet Nam Company Limited   \n",
       "593                                   COMIT Corporation   \n",
       "674   Tổng Công Ty Cổ Phần Bảo Hiểm Sài Gòn - Hà Nội...   \n",
       "689                                    Neos Corporation   \n",
       "690                                           Imaginato   \n",
       "693                                     Finexus Sdn Bhd   \n",
       "734                                   Lee Wenyong & Co.   \n",
       "784                 Sutherland Global Services Malaysia   \n",
       "786                                     株式会社プロフェースシステムズ   \n",
       "902              Công Ty TNHH Công Nghệ Phần Mềm Kaopiz   \n",
       "921                       Công Ty Phần Mềm Của Nhật Bản   \n",
       "1060                                    ZTE Corporation   \n",
       "\n",
       "                                              job_title  \n",
       "15                Web Developer - Làm Việc Tại Nhật Bản  \n",
       "36    Technical Support Consultant - Vietnamese Spea...  \n",
       "43    Kỹ Sư Phần Mềm Biết Tiếng Nhật (bse/ Smartphon...  \n",
       "45     [300~600man/năm] Brse/ Se/ PG Làm Việc Tại Tokyo  \n",
       "58     Senior iOS Mobile Developer - Competitive Salary  \n",
       "102   *urgent* 3 Senior Liferay Engineers (4 - 6 Years)  \n",
       "106        10 Testers Tiếng Nhật N2 Có Cơ Hội Onsite Mỹ  \n",
       "190                        05 Kỹ Sư iOS ( High Salary )  \n",
       "191                    05 Kỹ Sư Android ( High Salary )  \n",
       "198   [tuyển Gấp] 8 Lập Trình Viên .NET, Php, Java C...  \n",
       "304   Kỹ Sư Cầu Nối (BrSE) Làm Việc Dài Hạn Tại Nhật...  \n",
       "384                SAP Operator (based in Tokyo, Japan)  \n",
       "491   Urgent - PHP Developer (drupal/wordpress/symfo...  \n",
       "502   Senior Sharepoint Developer (go Onsite Singapore)  \n",
       "515                    Quản Lý Dự Án Dịch Vụ Viễn Thông  \n",
       "540   Kỹ Sư Phần Mềm Được Đào Tạo Tiếng Nhật và Sẽ L...  \n",
       "593   Kỹ Sư Tối Ưu Hóa Mạng Vô Tuyến 3G (Experienced...  \n",
       "674   Chuyên Viên Công Nghệ Thông Tin ( Làm Việc Tại...  \n",
       "689          03 Bridge System Engineer ( $1000 ~ $2000)  \n",
       "690               ($700 ~$1500) E-commerce PHP Engineer  \n",
       "693   *** Hot :15 Lập Trình Viên Java Làm Việc Tại M...  \n",
       "734       Software Application Engineer / PHP Developer  \n",
       "784                                   Technical Support  \n",
       "786            System Engineer To Japan ($2000 ~ $5000)  \n",
       "902                                     Onsite Engineer  \n",
       "921               Kỹ Sư Hệ Thống Biết Tiếng Nhật (BrSE)  \n",
       "1060  Oversea Project Manager ( Working in Peru )- U...  "
      ]
     },
     "execution_count": 14,
     "metadata": {},
     "output_type": "execute_result"
    }
   ],
   "source": [
    "jobs[jobs.location.str.contains('International')][['company', 'job_title']]"
   ]
  },
  {
   "cell_type": "markdown",
   "metadata": {},
   "source": [
    "### Have fun!"
   ]
  },
  {
   "cell_type": "code",
   "execution_count": null,
   "metadata": {
    "collapsed": true
   },
   "outputs": [],
   "source": []
  }
 ],
 "metadata": {
  "kernelspec": {
   "display_name": "Python 2",
   "language": "python",
   "name": "python2"
  },
  "language_info": {
   "codemirror_mode": {
    "name": "ipython",
    "version": 2
   },
   "file_extension": ".py",
   "mimetype": "text/x-python",
   "name": "python",
   "nbconvert_exporter": "python",
   "pygments_lexer": "ipython2",
   "version": "2.7.6"
  }
 },
 "nbformat": 4,
 "nbformat_minor": 0
}
